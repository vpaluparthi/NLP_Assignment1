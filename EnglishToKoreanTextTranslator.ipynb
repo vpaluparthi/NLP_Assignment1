{
  "nbformat": 4,
  "nbformat_minor": 0,
  "metadata": {
    "colab": {
      "name": "Untitled2.ipynb",
      "provenance": [],
      "authorship_tag": "ABX9TyO3Qw+BJFlkbn/FVF5eziin",
      "include_colab_link": true
    },
    "kernelspec": {
      "name": "python3",
      "display_name": "Python 3"
    },
    "language_info": {
      "name": "python"
    }
  },
  "cells": [
    {
      "cell_type": "markdown",
      "metadata": {
        "id": "view-in-github",
        "colab_type": "text"
      },
      "source": [
        "<a href=\"https://colab.research.google.com/github/vpaluparthi/NLP_Assignment1/blob/main/EnglishToKoreanTextTranslator.ipynb\" target=\"_parent\"><img src=\"https://colab.research.google.com/assets/colab-badge.svg\" alt=\"Open In Colab\"/></a>"
      ]
    },
    {
      "cell_type": "markdown",
      "source": [
        "# NLP Assignment: GROUP (1 TO 50) Assignment-1 #\n",
        "# Group: 33 #\n",
        "\n",
        "# Members: # \n",
        "> Vijaya Kumar Paluparthi (Student ID: 2020FC04388)\n",
        "\n",
        "> Bharathi Panamala (Student ID: 2020FC0438)\n",
        "\n",
        "> Abhishek Raturu (Student ID: 2020FC0438)"
      ],
      "metadata": {
        "id": "3yZuVXa1AF3n"
      }
    },
    {
      "cell_type": "code",
      "source": [
        ""
      ],
      "metadata": {
        "id": "Aw75OyL4Bc7l"
      },
      "execution_count": null,
      "outputs": []
    },
    {
      "cell_type": "code",
      "source": [
        ""
      ],
      "metadata": {
        "id": "zVcsRKprBc8X"
      },
      "execution_count": null,
      "outputs": []
    }
  ]
}